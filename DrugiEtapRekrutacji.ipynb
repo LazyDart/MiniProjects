{
 "cells": [
  {
   "cell_type": "markdown",
   "id": "98c36818",
   "metadata": {},
   "source": [
    "## Rozwiązanie zadań z drugiego etapu rekrutacji - Miłosz Tkacz"
   ]
  },
  {
   "cell_type": "markdown",
   "id": "8ee17b97",
   "metadata": {},
   "source": [
    "### Readme\n",
    "Cała analiza została wykonana w Pythonie, z drobną pomocą Excel'a. \\\n",
    "Wykonanie zadań zajęło mi około 4h jeśli chodzi o napisanie kodu i uzyskanie odpowiedzi, \\\n",
    "jednakże spędziłem dodatkowy czas na dopracowywaniu estetycznych aspektów kodu i generowanych wykresów\\\n",
    "oraz na pisaniu wyczerpujących komentarzy.\n",
    "\n",
    "Użyte przeze mnie biblioteki to: \\\n",
    "Pandas - Analiza danych \\\n",
    "Seaborn, Matplot - Wizualizacja danych \\\n",
    "Scipy - Testy statystyczne i generowanie rozkładów\\\n",
    "Fitter - Niszowa biblioteka służąca do znajdywana rozkładów najbardziej zbliżonych do danej próbki. \\\n",
    "Za jej pomocą udało mi się udzielić bardziej szczegółowej odpowiedzi na zadanie 4. \n",
    "\n",
    "Komentarze do kodu (po #) będę pisać w języku angielskim, zgodnie z konwencją PEP8, \\\n",
    "natomiast komentarze \"Markdown\" pisane po polsku będą mi służyć do oznaczania i ewentualnego tłumaczenia Zadań rekrutacyjnych.\n"
   ]
  },
  {
   "cell_type": "code",
   "execution_count": 1,
   "id": "77e15abc",
   "metadata": {},
   "outputs": [],
   "source": [
    "import pandas as pd # Data processing\n",
    "import seaborn as sns # Data visualization\n",
    "import matplotlib.pyplot as plt # Data visualization\n",
    "from scipy import stats # Statistical testing and generating distribution \n",
    "from fitter import Fitter # Fitting the distribution to the sample"
   ]
  },
  {
   "cell_type": "markdown",
   "id": "47cfbb47",
   "metadata": {},
   "source": [
    "Przekonwertowałem plik .xlsx na .csv w Excel, w ten sposób udało mi się uniknąć konieczności instalowania dodatkowego pakietu openpyxl, wymaganego przez pandas.read_excel()."
   ]
  },
  {
   "cell_type": "code",
   "execution_count": 2,
   "id": "ed12e03f",
   "metadata": {},
   "outputs": [],
   "source": [
    "# I've converted the xlsx file to csv, to avoid using openpyxl library.\n",
    "data_df = pd.read_csv(\"Test_case1.csv\")"
   ]
  },
  {
   "cell_type": "markdown",
   "id": "b74d0434",
   "metadata": {},
   "source": [
    "### Zadanie 1"
   ]
  },
  {
   "cell_type": "code",
   "execution_count": 3,
   "id": "a01fe7b7",
   "metadata": {},
   "outputs": [
    {
     "data": {
      "text/plain": [
       "idcase                        0\n",
       "txtprocess                    0\n",
       "csd                           0\n",
       "txtfranchise                  0\n",
       "txtdrugcode                   0\n",
       "txtgeneric_name               6\n",
       "txtcountry_of_incidence       0\n",
       "txtfile_name                  0\n",
       "txtmarrs_case_id           3632\n",
       "txtreporttype                 0\n",
       "weight                        0\n",
       "initial_follow_up            33\n",
       "userid_dmcs_imported          0\n",
       "date_dmcs_imported            0\n",
       "add_reason                  740\n",
       "date_dmcs_routed            971\n",
       "userid_dmcs_routed            0\n",
       "txtdmc                        2\n",
       "date_dmcs_received          208\n",
       "userid_coord_routed_by       77\n",
       "userid_coord_routed_to       79\n",
       "date_coord_routed            77\n",
       "date_coord_received         379\n",
       "userid_coord_processing     386\n",
       "date_coord_processing       386\n",
       "userid_coord_completed      841\n",
       "date_coord_completed        839\n",
       "txtstatus                     0\n",
       "dtype: int64"
      ]
     },
     "execution_count": 3,
     "metadata": {},
     "output_type": "execute_result"
    }
   ],
   "source": [
    "# checking for missing data\n",
    "data_df.isna().sum()"
   ]
  },
  {
   "cell_type": "code",
   "execution_count": 4,
   "id": "d02a1bad",
   "metadata": {},
   "outputs": [],
   "source": [
    "# Convert the necessary variables to datetime objects.\n",
    "data_df[\"date_coord_received\"] = pd.to_datetime(data_df[\"date_coord_received\"])\n",
    "data_df[\"date_coord_completed\"] = pd.to_datetime(data_df[\"date_coord_completed\"])\n"
   ]
  },
  {
   "cell_type": "code",
   "execution_count": 5,
   "id": "ec7ad3e7",
   "metadata": {},
   "outputs": [],
   "source": [
    "# Calculate the coord realisation time. \n",
    "data_df[\"coord_realisation_time\"] = data_df[\"date_coord_completed\"] \\\n",
    "                                        - data_df[\"date_coord_received\"]"
   ]
  },
  {
   "cell_type": "code",
   "execution_count": 6,
   "id": "85b16777",
   "metadata": {},
   "outputs": [
    {
     "data": {
      "text/html": [
       "<div>\n",
       "<style scoped>\n",
       "    .dataframe tbody tr th:only-of-type {\n",
       "        vertical-align: middle;\n",
       "    }\n",
       "\n",
       "    .dataframe tbody tr th {\n",
       "        vertical-align: top;\n",
       "    }\n",
       "\n",
       "    .dataframe thead th {\n",
       "        text-align: right;\n",
       "    }\n",
       "</style>\n",
       "<table border=\"1\" class=\"dataframe\">\n",
       "  <thead>\n",
       "    <tr style=\"text-align: right;\">\n",
       "      <th></th>\n",
       "      <th>date_coord_received</th>\n",
       "      <th>date_coord_completed</th>\n",
       "      <th>coord_realisation_time</th>\n",
       "    </tr>\n",
       "  </thead>\n",
       "  <tbody>\n",
       "    <tr>\n",
       "      <th>0</th>\n",
       "      <td>2017-07-07 08:00:00</td>\n",
       "      <td>2017-07-07 12:48:00</td>\n",
       "      <td>0 days 04:48:00</td>\n",
       "    </tr>\n",
       "    <tr>\n",
       "      <th>1</th>\n",
       "      <td>2017-07-07 08:00:00</td>\n",
       "      <td>2017-07-07 12:48:00</td>\n",
       "      <td>0 days 04:48:00</td>\n",
       "    </tr>\n",
       "    <tr>\n",
       "      <th>2</th>\n",
       "      <td>2017-07-07 08:00:00</td>\n",
       "      <td>2017-07-07 15:40:48</td>\n",
       "      <td>0 days 07:40:48</td>\n",
       "    </tr>\n",
       "    <tr>\n",
       "      <th>3</th>\n",
       "      <td>2017-07-07 08:00:00</td>\n",
       "      <td>2017-07-07 15:40:48</td>\n",
       "      <td>0 days 07:40:48</td>\n",
       "    </tr>\n",
       "    <tr>\n",
       "      <th>4</th>\n",
       "      <td>2017-07-07 08:00:00</td>\n",
       "      <td>2017-07-07 15:40:48</td>\n",
       "      <td>0 days 07:40:48</td>\n",
       "    </tr>\n",
       "  </tbody>\n",
       "</table>\n",
       "</div>"
      ],
      "text/plain": [
       "  date_coord_received date_coord_completed coord_realisation_time\n",
       "0 2017-07-07 08:00:00  2017-07-07 12:48:00        0 days 04:48:00\n",
       "1 2017-07-07 08:00:00  2017-07-07 12:48:00        0 days 04:48:00\n",
       "2 2017-07-07 08:00:00  2017-07-07 15:40:48        0 days 07:40:48\n",
       "3 2017-07-07 08:00:00  2017-07-07 15:40:48        0 days 07:40:48\n",
       "4 2017-07-07 08:00:00  2017-07-07 15:40:48        0 days 07:40:48"
      ]
     },
     "execution_count": 6,
     "metadata": {},
     "output_type": "execute_result"
    }
   ],
   "source": [
    "data_df[[\"date_coord_received\", \"date_coord_completed\", \"coord_realisation_time\"]].head(5)"
   ]
  },
  {
   "cell_type": "markdown",
   "id": "69fb07db",
   "metadata": {},
   "source": [
    "### Zadanie 2"
   ]
  },
  {
   "cell_type": "markdown",
   "id": "1f55619c",
   "metadata": {},
   "source": [
    "W treści zadania proszono o zaznaczenie rekordów z brakami danych, zrobiłem to tworząc nową zmienną."
   ]
  },
  {
   "cell_type": "code",
   "execution_count": 7,
   "id": "0ae74691",
   "metadata": {},
   "outputs": [
    {
     "data": {
      "text/plain": [
       "False    165061\n",
       "True        845\n",
       "dtype: int64"
      ]
     },
     "execution_count": 7,
     "metadata": {},
     "output_type": "execute_result"
    }
   ],
   "source": [
    "# Create a new boolean variable to pinpoint missing data.\n",
    "missing = pd.Series(data_df[\"date_coord_received\"].isna() \n",
    "                    | data_df[\"date_coord_completed\"].isna())\n",
    "\n",
    "# Get the number of records with necessary data missing.\n",
    "missing.value_counts()"
   ]
  },
  {
   "cell_type": "code",
   "execution_count": 8,
   "id": "4eae26b1",
   "metadata": {},
   "outputs": [],
   "source": [
    "# Insert new column to the DataFrame.\n",
    "data_df[\"date_coord_missing\"] = missing"
   ]
  },
  {
   "cell_type": "code",
   "execution_count": 9,
   "id": "0410b1a5",
   "metadata": {},
   "outputs": [
    {
     "data": {
      "text/html": [
       "<div>\n",
       "<style scoped>\n",
       "    .dataframe tbody tr th:only-of-type {\n",
       "        vertical-align: middle;\n",
       "    }\n",
       "\n",
       "    .dataframe tbody tr th {\n",
       "        vertical-align: top;\n",
       "    }\n",
       "\n",
       "    .dataframe thead th {\n",
       "        text-align: right;\n",
       "    }\n",
       "</style>\n",
       "<table border=\"1\" class=\"dataframe\">\n",
       "  <thead>\n",
       "    <tr style=\"text-align: right;\">\n",
       "      <th></th>\n",
       "      <th>idcase</th>\n",
       "      <th>txtprocess</th>\n",
       "      <th>csd</th>\n",
       "      <th>txtfranchise</th>\n",
       "      <th>txtdrugcode</th>\n",
       "      <th>txtgeneric_name</th>\n",
       "      <th>txtcountry_of_incidence</th>\n",
       "      <th>txtfile_name</th>\n",
       "      <th>txtmarrs_case_id</th>\n",
       "      <th>txtreporttype</th>\n",
       "      <th>...</th>\n",
       "      <th>userid_coord_routed_to</th>\n",
       "      <th>date_coord_routed</th>\n",
       "      <th>date_coord_received</th>\n",
       "      <th>userid_coord_processing</th>\n",
       "      <th>date_coord_processing</th>\n",
       "      <th>userid_coord_completed</th>\n",
       "      <th>date_coord_completed</th>\n",
       "      <th>txtstatus</th>\n",
       "      <th>coord_realisation_time</th>\n",
       "      <th>date_coord_missing</th>\n",
       "    </tr>\n",
       "  </thead>\n",
       "  <tbody>\n",
       "    <tr>\n",
       "      <th>0</th>\n",
       "      <td>14370</td>\n",
       "      <td>Intake</td>\n",
       "      <td>01-AUG-17 12.00.00.000000000 AM</td>\n",
       "      <td>Cardiovascular</td>\n",
       "      <td>DrugCode2</td>\n",
       "      <td>GenericName2</td>\n",
       "      <td>CountryName2</td>\n",
       "      <td>FileName2</td>\n",
       "      <td>CaseId2</td>\n",
       "      <td>ReportType2</td>\n",
       "      <td>...</td>\n",
       "      <td>User445</td>\n",
       "      <td>2017-07-07 08:00:00</td>\n",
       "      <td>2017-07-07 08:00:00</td>\n",
       "      <td>User445</td>\n",
       "      <td>2017-07-07 12:48:00</td>\n",
       "      <td>User445</td>\n",
       "      <td>2017-07-07 12:48:00</td>\n",
       "      <td>2_COMPLETED</td>\n",
       "      <td>0 days 04:48:00</td>\n",
       "      <td>False</td>\n",
       "    </tr>\n",
       "    <tr>\n",
       "      <th>1</th>\n",
       "      <td>14371</td>\n",
       "      <td>Intake</td>\n",
       "      <td>01-AUG-17 12.00.00.000000000 AM</td>\n",
       "      <td>Oncology</td>\n",
       "      <td>DrugCode3</td>\n",
       "      <td>GenericName3</td>\n",
       "      <td>CountryName3</td>\n",
       "      <td>FileName2</td>\n",
       "      <td>CaseId3</td>\n",
       "      <td>ReportType3</td>\n",
       "      <td>...</td>\n",
       "      <td>User453</td>\n",
       "      <td>2017-07-07 08:00:00</td>\n",
       "      <td>2017-07-07 08:00:00</td>\n",
       "      <td>User453</td>\n",
       "      <td>2017-07-07 12:48:00</td>\n",
       "      <td>User453</td>\n",
       "      <td>2017-07-07 12:48:00</td>\n",
       "      <td>2_COMPLETED</td>\n",
       "      <td>0 days 04:48:00</td>\n",
       "      <td>False</td>\n",
       "    </tr>\n",
       "    <tr>\n",
       "      <th>2</th>\n",
       "      <td>14367</td>\n",
       "      <td>Intake</td>\n",
       "      <td>01-AUG-17 12.00.00.000000000 AM</td>\n",
       "      <td>Oncology</td>\n",
       "      <td>DrugCode3</td>\n",
       "      <td>GenericName3</td>\n",
       "      <td>CountryName7</td>\n",
       "      <td>FileName12</td>\n",
       "      <td>CaseId207</td>\n",
       "      <td>ReportType2</td>\n",
       "      <td>...</td>\n",
       "      <td>User229</td>\n",
       "      <td>2017-07-07 08:00:00</td>\n",
       "      <td>2017-07-07 08:00:00</td>\n",
       "      <td>User229</td>\n",
       "      <td>2017-07-07 15:40:48</td>\n",
       "      <td>User229</td>\n",
       "      <td>2017-07-07 15:40:48</td>\n",
       "      <td>2_COMPLETED</td>\n",
       "      <td>0 days 07:40:48</td>\n",
       "      <td>False</td>\n",
       "    </tr>\n",
       "    <tr>\n",
       "      <th>3</th>\n",
       "      <td>14368</td>\n",
       "      <td>Intake</td>\n",
       "      <td>01-AUG-17 12.00.00.000000000 AM</td>\n",
       "      <td>Oncology</td>\n",
       "      <td>DrugCode3</td>\n",
       "      <td>GenericName3</td>\n",
       "      <td>CountryName3</td>\n",
       "      <td>FileName13</td>\n",
       "      <td>CaseId208</td>\n",
       "      <td>ReportType3</td>\n",
       "      <td>...</td>\n",
       "      <td>User479</td>\n",
       "      <td>2017-07-07 08:00:00</td>\n",
       "      <td>2017-07-07 08:00:00</td>\n",
       "      <td>User479</td>\n",
       "      <td>2017-07-07 15:40:48</td>\n",
       "      <td>User479</td>\n",
       "      <td>2017-07-07 15:40:48</td>\n",
       "      <td>2_COMPLETED</td>\n",
       "      <td>0 days 07:40:48</td>\n",
       "      <td>False</td>\n",
       "    </tr>\n",
       "    <tr>\n",
       "      <th>4</th>\n",
       "      <td>14369</td>\n",
       "      <td>Intake</td>\n",
       "      <td>01-AUG-17 12.00.00.000000000 AM</td>\n",
       "      <td>Oncology</td>\n",
       "      <td>DrugCode3</td>\n",
       "      <td>GenericName3</td>\n",
       "      <td>CountryName3</td>\n",
       "      <td>FileName14</td>\n",
       "      <td>CaseId209</td>\n",
       "      <td>ReportType4</td>\n",
       "      <td>...</td>\n",
       "      <td>User117</td>\n",
       "      <td>2017-07-07 08:00:00</td>\n",
       "      <td>2017-07-07 08:00:00</td>\n",
       "      <td>User117</td>\n",
       "      <td>2017-07-07 15:40:48</td>\n",
       "      <td>User117</td>\n",
       "      <td>2017-07-07 15:40:48</td>\n",
       "      <td>2_COMPLETED</td>\n",
       "      <td>0 days 07:40:48</td>\n",
       "      <td>False</td>\n",
       "    </tr>\n",
       "  </tbody>\n",
       "</table>\n",
       "<p>5 rows × 30 columns</p>\n",
       "</div>"
      ],
      "text/plain": [
       "   idcase txtprocess                              csd    txtfranchise  \\\n",
       "0   14370     Intake  01-AUG-17 12.00.00.000000000 AM  Cardiovascular   \n",
       "1   14371     Intake  01-AUG-17 12.00.00.000000000 AM        Oncology   \n",
       "2   14367     Intake  01-AUG-17 12.00.00.000000000 AM        Oncology   \n",
       "3   14368     Intake  01-AUG-17 12.00.00.000000000 AM        Oncology   \n",
       "4   14369     Intake  01-AUG-17 12.00.00.000000000 AM        Oncology   \n",
       "\n",
       "  txtdrugcode txtgeneric_name txtcountry_of_incidence txtfile_name  \\\n",
       "0   DrugCode2    GenericName2            CountryName2    FileName2   \n",
       "1   DrugCode3    GenericName3            CountryName3    FileName2   \n",
       "2   DrugCode3    GenericName3            CountryName7   FileName12   \n",
       "3   DrugCode3    GenericName3            CountryName3   FileName13   \n",
       "4   DrugCode3    GenericName3            CountryName3   FileName14   \n",
       "\n",
       "  txtmarrs_case_id txtreporttype  ...  userid_coord_routed_to  \\\n",
       "0          CaseId2   ReportType2  ...                 User445   \n",
       "1          CaseId3   ReportType3  ...                 User453   \n",
       "2        CaseId207   ReportType2  ...                 User229   \n",
       "3        CaseId208   ReportType3  ...                 User479   \n",
       "4        CaseId209   ReportType4  ...                 User117   \n",
       "\n",
       "     date_coord_routed date_coord_received userid_coord_processing  \\\n",
       "0  2017-07-07 08:00:00 2017-07-07 08:00:00                 User445   \n",
       "1  2017-07-07 08:00:00 2017-07-07 08:00:00                 User453   \n",
       "2  2017-07-07 08:00:00 2017-07-07 08:00:00                 User229   \n",
       "3  2017-07-07 08:00:00 2017-07-07 08:00:00                 User479   \n",
       "4  2017-07-07 08:00:00 2017-07-07 08:00:00                 User117   \n",
       "\n",
       "  date_coord_processing userid_coord_completed date_coord_completed  \\\n",
       "0   2017-07-07 12:48:00                User445  2017-07-07 12:48:00   \n",
       "1   2017-07-07 12:48:00                User453  2017-07-07 12:48:00   \n",
       "2   2017-07-07 15:40:48                User229  2017-07-07 15:40:48   \n",
       "3   2017-07-07 15:40:48                User479  2017-07-07 15:40:48   \n",
       "4   2017-07-07 15:40:48                User117  2017-07-07 15:40:48   \n",
       "\n",
       "     txtstatus coord_realisation_time date_coord_missing  \n",
       "0  2_COMPLETED        0 days 04:48:00              False  \n",
       "1  2_COMPLETED        0 days 04:48:00              False  \n",
       "2  2_COMPLETED        0 days 07:40:48              False  \n",
       "3  2_COMPLETED        0 days 07:40:48              False  \n",
       "4  2_COMPLETED        0 days 07:40:48              False  \n",
       "\n",
       "[5 rows x 30 columns]"
      ]
     },
     "execution_count": 9,
     "metadata": {},
     "output_type": "execute_result"
    }
   ],
   "source": [
    "data_df.head(5)"
   ]
  },
  {
   "cell_type": "markdown",
   "id": "bfc79b06",
   "metadata": {},
   "source": [
    "### Zadanie 3"
   ]
  },
  {
   "cell_type": "markdown",
   "id": "fb7dff3f",
   "metadata": {},
   "source": [
    "W tym zadaniu oraz we wszystkich następnych, jako że wszystkie dotyczą wykonanych zgłoszeń, używam danych oczyszczonych z braków danych. \\\n",
    "Odkryłem również, że część rekordów ma absurdalne wyniki, w których ogłoszenie skończyło się wcześniej niż się rozpoczęło. \\\n",
    "Usunąłem je, aby ujemne wartości nie niszczyły wyników."
   ]
  },
  {
   "cell_type": "code",
   "execution_count": 10,
   "id": "2d624771",
   "metadata": {},
   "outputs": [],
   "source": [
    "# Create a copy of data with missing records deleted.\n",
    "valid_data = data_df[data_df[\"date_coord_missing\"] == False]"
   ]
  },
  {
   "cell_type": "code",
   "execution_count": 11,
   "id": "de96108f",
   "metadata": {},
   "outputs": [
    {
     "data": {
      "text/plain": [
       "561"
      ]
     },
     "execution_count": 11,
     "metadata": {},
     "output_type": "execute_result"
    }
   ],
   "source": [
    "# Check the number of records with an absurd values.\n",
    "valid_data[(valid_data[\"coord_realisation_time\"].dt.total_seconds() < 0)][\"idcase\"].count()"
   ]
  },
  {
   "cell_type": "code",
   "execution_count": 12,
   "id": "1d2a0c9c",
   "metadata": {},
   "outputs": [],
   "source": [
    "# Delete the records with absurd values.\n",
    "valid_data = valid_data[(valid_data[\"coord_realisation_time\"].dt.total_seconds() < 0) == False]"
   ]
  },
  {
   "cell_type": "markdown",
   "id": "40ba88da",
   "metadata": {},
   "source": [
    "#### Podpunkt (1)"
   ]
  },
  {
   "cell_type": "code",
   "execution_count": 13,
   "id": "5ef2eb34",
   "metadata": {},
   "outputs": [
    {
     "name": "stdout",
     "output_type": "stream",
     "text": [
      "Mean = 0 days 07:51:26\n",
      "Standard Deviation = 1 days 05:10:41\n",
      "Median = 0 days 02:16:42\n"
     ]
    }
   ],
   "source": [
    "# Calculate the statistics for whole data, round the results to 1s.\n",
    "print(\"Mean =\", valid_data[\"coord_realisation_time\"].mean().round(\"1s\"))\n",
    "print(\"Standard Deviation =\", valid_data[\"coord_realisation_time\"].std().round(\"1s\"))\n",
    "print(\"Median =\", valid_data[\"coord_realisation_time\"].median().round(\"1s\"))"
   ]
  },
  {
   "cell_type": "markdown",
   "id": "40d739f2",
   "metadata": {},
   "source": [
    "#### Podpunkt (2)\n",
    "ReportType21 i ReportType24 mają tylko jeden rekord. \\\n",
    "Pandas nie pozwala na policzenie odchylenia standardowego w takim przypadku. Przypisałem im zatem indywidualne wartości 0.\n",
    "\n",
    "Swoją odpowiedź zawarłem w jednej tabeli na końcu podpunktu, w ten sposób odpowiedź jest czytelniejsza i znajduje się w jednym miejscu."
   ]
  },
  {
   "cell_type": "code",
   "execution_count": 14,
   "id": "355c177f",
   "metadata": {},
   "outputs": [],
   "source": [
    "# Get the mean value of coord_realisation_time for every type of report.\n",
    "report_type_mean = valid_data.groupby(\"txtreporttype\")[\"coord_realisation_time\"].describe()[\"mean\"]"
   ]
  },
  {
   "cell_type": "code",
   "execution_count": 15,
   "id": "08c59d00",
   "metadata": {},
   "outputs": [],
   "source": [
    "# Get the median value of coord_realisation_time for every type of report.\n",
    "report_type_median = pd.DataFrame(valid_data.groupby(\"txtreporttype\")[\"coord_realisation_time\"].median())"
   ]
  },
  {
   "cell_type": "code",
   "execution_count": 16,
   "id": "5cd38399",
   "metadata": {},
   "outputs": [
    {
     "data": {
      "text/html": [
       "<div>\n",
       "<style scoped>\n",
       "    .dataframe tbody tr th:only-of-type {\n",
       "        vertical-align: middle;\n",
       "    }\n",
       "\n",
       "    .dataframe tbody tr th {\n",
       "        vertical-align: top;\n",
       "    }\n",
       "\n",
       "    .dataframe thead th {\n",
       "        text-align: right;\n",
       "    }\n",
       "</style>\n",
       "<table border=\"1\" class=\"dataframe\">\n",
       "  <thead>\n",
       "    <tr style=\"text-align: right;\">\n",
       "      <th></th>\n",
       "      <th>count</th>\n",
       "      <th>mean</th>\n",
       "      <th>std</th>\n",
       "      <th>min</th>\n",
       "      <th>25%</th>\n",
       "      <th>50%</th>\n",
       "      <th>75%</th>\n",
       "      <th>max</th>\n",
       "    </tr>\n",
       "    <tr>\n",
       "      <th>txtreporttype</th>\n",
       "      <th></th>\n",
       "      <th></th>\n",
       "      <th></th>\n",
       "      <th></th>\n",
       "      <th></th>\n",
       "      <th></th>\n",
       "      <th></th>\n",
       "      <th></th>\n",
       "    </tr>\n",
       "  </thead>\n",
       "  <tbody>\n",
       "    <tr>\n",
       "      <th>ReportType21</th>\n",
       "      <td>1</td>\n",
       "      <td>2 days 00:28:40</td>\n",
       "      <td>NaT</td>\n",
       "      <td>2 days 00:28:40</td>\n",
       "      <td>2 days 00:28:40</td>\n",
       "      <td>2 days 00:28:40</td>\n",
       "      <td>2 days 00:28:40</td>\n",
       "      <td>2 days 00:28:40</td>\n",
       "    </tr>\n",
       "    <tr>\n",
       "      <th>ReportType24</th>\n",
       "      <td>1</td>\n",
       "      <td>0 days 00:59:20</td>\n",
       "      <td>NaT</td>\n",
       "      <td>0 days 00:59:20</td>\n",
       "      <td>0 days 00:59:20</td>\n",
       "      <td>0 days 00:59:20</td>\n",
       "      <td>0 days 00:59:20</td>\n",
       "      <td>0 days 00:59:20</td>\n",
       "    </tr>\n",
       "  </tbody>\n",
       "</table>\n",
       "</div>"
      ],
      "text/plain": [
       "              count             mean  std              min              25%  \\\n",
       "txtreporttype                                                                 \n",
       "ReportType21      1  2 days 00:28:40  NaT  2 days 00:28:40  2 days 00:28:40   \n",
       "ReportType24      1  0 days 00:59:20  NaT  0 days 00:59:20  0 days 00:59:20   \n",
       "\n",
       "                           50%              75%              max  \n",
       "txtreporttype                                                     \n",
       "ReportType21   2 days 00:28:40  2 days 00:28:40  2 days 00:28:40  \n",
       "ReportType24   0 days 00:59:20  0 days 00:59:20  0 days 00:59:20  "
      ]
     },
     "execution_count": 16,
     "metadata": {},
     "output_type": "execute_result"
    }
   ],
   "source": [
    "# Show all the records with ReportType21 or ReportType24. There is only 1 for each report type.\n",
    "valid_data.groupby(\"txtreporttype\")[\"coord_realisation_time\"].describe().loc[[\"ReportType21\", \"ReportType24\"]]"
   ]
  },
  {
   "cell_type": "code",
   "execution_count": 17,
   "id": "49167532",
   "metadata": {},
   "outputs": [],
   "source": [
    "# Get the standard deviation of coord_realisation_time for every type of report.\n",
    "# Exclude the cases with only one record.\n",
    "report_type_std = valid_data[\n",
    "        (valid_data[\"txtreporttype\"] != \"ReportType21\") \n",
    "        & (valid_data[\"txtreporttype\"] != \"ReportType24\")\n",
    "          ].groupby(\"txtreporttype\")[\"coord_realisation_time\"].describe()[\"std\"]"
   ]
  },
  {
   "cell_type": "code",
   "execution_count": 18,
   "id": "c3bc4d5d",
   "metadata": {},
   "outputs": [],
   "source": [
    "# Create and transform the DataFrame to correctly display statistics values for each report type.\n",
    "report_type_data = pd.concat([pd.DataFrame([report_type_mean, report_type_std]).T, report_type_median], axis=1)\n",
    "report_type_data.columns = [\"time_mean\", \"time_std\", \"time_median\"]\n",
    "# Assign the value 0 for std for report types with only one record.\n",
    "report_type_data.loc[[\"ReportType21\", \"ReportType24\"], \"time_std\"] = 0\n",
    "# Round the values.\n",
    "report_type_data[\"time_std\"] = pd.to_timedelta(report_type_data[\"time_std\"]).dt.round(\"1s\")\n",
    "report_type_data[\"time_mean\"] = report_type_data[\"time_mean\"].dt.round(\"1s\")\n",
    "report_type_data[\"time_median\"] = report_type_data[\"time_median\"].dt.round(\"1s\")"
   ]
  },
  {
   "cell_type": "code",
   "execution_count": 19,
   "id": "b97b5523",
   "metadata": {},
   "outputs": [
    {
     "data": {
      "text/html": [
       "<div>\n",
       "<style scoped>\n",
       "    .dataframe tbody tr th:only-of-type {\n",
       "        vertical-align: middle;\n",
       "    }\n",
       "\n",
       "    .dataframe tbody tr th {\n",
       "        vertical-align: top;\n",
       "    }\n",
       "\n",
       "    .dataframe thead th {\n",
       "        text-align: right;\n",
       "    }\n",
       "</style>\n",
       "<table border=\"1\" class=\"dataframe\">\n",
       "  <thead>\n",
       "    <tr style=\"text-align: right;\">\n",
       "      <th></th>\n",
       "      <th>time_mean</th>\n",
       "      <th>time_std</th>\n",
       "      <th>time_median</th>\n",
       "    </tr>\n",
       "    <tr>\n",
       "      <th>txtreporttype</th>\n",
       "      <th></th>\n",
       "      <th></th>\n",
       "      <th></th>\n",
       "    </tr>\n",
       "  </thead>\n",
       "  <tbody>\n",
       "    <tr>\n",
       "      <th>ReportType1</th>\n",
       "      <td>0 days 22:41:45</td>\n",
       "      <td>2 days 10:09:09</td>\n",
       "      <td>0 days 04:14:25</td>\n",
       "    </tr>\n",
       "    <tr>\n",
       "      <th>ReportType10</th>\n",
       "      <td>0 days 06:34:52</td>\n",
       "      <td>0 days 22:06:01</td>\n",
       "      <td>0 days 02:02:57</td>\n",
       "    </tr>\n",
       "    <tr>\n",
       "      <th>ReportType11</th>\n",
       "      <td>0 days 04:50:27</td>\n",
       "      <td>1 days 03:10:47</td>\n",
       "      <td>0 days 02:17:45</td>\n",
       "    </tr>\n",
       "    <tr>\n",
       "      <th>ReportType12</th>\n",
       "      <td>0 days 11:20:12</td>\n",
       "      <td>1 days 15:56:04</td>\n",
       "      <td>0 days 02:54:19</td>\n",
       "    </tr>\n",
       "    <tr>\n",
       "      <th>ReportType13</th>\n",
       "      <td>0 days 04:36:14</td>\n",
       "      <td>0 days 00:43:16</td>\n",
       "      <td>0 days 04:36:14</td>\n",
       "    </tr>\n",
       "    <tr>\n",
       "      <th>ReportType14</th>\n",
       "      <td>0 days 09:19:15</td>\n",
       "      <td>0 days 15:40:45</td>\n",
       "      <td>0 days 03:41:52</td>\n",
       "    </tr>\n",
       "    <tr>\n",
       "      <th>ReportType15</th>\n",
       "      <td>0 days 10:11:35</td>\n",
       "      <td>0 days 10:23:59</td>\n",
       "      <td>0 days 07:11:44</td>\n",
       "    </tr>\n",
       "    <tr>\n",
       "      <th>ReportType16</th>\n",
       "      <td>0 days 13:24:07</td>\n",
       "      <td>2 days 05:47:52</td>\n",
       "      <td>0 days 02:31:17</td>\n",
       "    </tr>\n",
       "    <tr>\n",
       "      <th>ReportType17</th>\n",
       "      <td>0 days 05:17:38</td>\n",
       "      <td>0 days 02:21:58</td>\n",
       "      <td>0 days 04:06:40</td>\n",
       "    </tr>\n",
       "    <tr>\n",
       "      <th>ReportType18</th>\n",
       "      <td>0 days 04:08:28</td>\n",
       "      <td>0 days 08:06:52</td>\n",
       "      <td>0 days 02:47:18</td>\n",
       "    </tr>\n",
       "    <tr>\n",
       "      <th>ReportType19</th>\n",
       "      <td>0 days 15:11:58</td>\n",
       "      <td>1 days 14:24:06</td>\n",
       "      <td>0 days 02:18:44</td>\n",
       "    </tr>\n",
       "    <tr>\n",
       "      <th>ReportType2</th>\n",
       "      <td>0 days 05:08:34</td>\n",
       "      <td>0 days 16:13:50</td>\n",
       "      <td>0 days 01:40:21</td>\n",
       "    </tr>\n",
       "    <tr>\n",
       "      <th>ReportType20</th>\n",
       "      <td>0 days 03:40:43</td>\n",
       "      <td>0 days 05:11:23</td>\n",
       "      <td>0 days 03:40:43</td>\n",
       "    </tr>\n",
       "    <tr>\n",
       "      <th>ReportType21</th>\n",
       "      <td>2 days 00:28:40</td>\n",
       "      <td>0 days 00:00:00</td>\n",
       "      <td>2 days 00:28:40</td>\n",
       "    </tr>\n",
       "    <tr>\n",
       "      <th>ReportType22</th>\n",
       "      <td>0 days 01:04:38</td>\n",
       "      <td>0 days 00:24:54</td>\n",
       "      <td>0 days 01:04:38</td>\n",
       "    </tr>\n",
       "    <tr>\n",
       "      <th>ReportType23</th>\n",
       "      <td>0 days 10:30:51</td>\n",
       "      <td>0 days 00:03:45</td>\n",
       "      <td>0 days 10:30:51</td>\n",
       "    </tr>\n",
       "    <tr>\n",
       "      <th>ReportType24</th>\n",
       "      <td>0 days 00:59:20</td>\n",
       "      <td>0 days 00:00:00</td>\n",
       "      <td>0 days 00:59:20</td>\n",
       "    </tr>\n",
       "    <tr>\n",
       "      <th>ReportType3</th>\n",
       "      <td>0 days 04:46:40</td>\n",
       "      <td>0 days 10:44:48</td>\n",
       "      <td>0 days 02:21:46</td>\n",
       "    </tr>\n",
       "    <tr>\n",
       "      <th>ReportType4</th>\n",
       "      <td>0 days 04:05:24</td>\n",
       "      <td>0 days 11:29:54</td>\n",
       "      <td>0 days 01:48:57</td>\n",
       "    </tr>\n",
       "    <tr>\n",
       "      <th>ReportType5</th>\n",
       "      <td>0 days 06:22:16</td>\n",
       "      <td>1 days 05:08:30</td>\n",
       "      <td>0 days 02:26:03</td>\n",
       "    </tr>\n",
       "    <tr>\n",
       "      <th>ReportType6</th>\n",
       "      <td>0 days 04:03:14</td>\n",
       "      <td>0 days 13:41:48</td>\n",
       "      <td>0 days 02:02:02</td>\n",
       "    </tr>\n",
       "    <tr>\n",
       "      <th>ReportType7</th>\n",
       "      <td>0 days 15:15:15</td>\n",
       "      <td>1 days 12:57:06</td>\n",
       "      <td>0 days 03:50:15</td>\n",
       "    </tr>\n",
       "    <tr>\n",
       "      <th>ReportType8</th>\n",
       "      <td>0 days 05:05:49</td>\n",
       "      <td>1 days 01:34:16</td>\n",
       "      <td>0 days 02:17:19</td>\n",
       "    </tr>\n",
       "    <tr>\n",
       "      <th>ReportType9</th>\n",
       "      <td>0 days 05:48:52</td>\n",
       "      <td>0 days 13:26:17</td>\n",
       "      <td>0 days 03:17:49</td>\n",
       "    </tr>\n",
       "  </tbody>\n",
       "</table>\n",
       "</div>"
      ],
      "text/plain": [
       "                    time_mean        time_std     time_median\n",
       "txtreporttype                                                \n",
       "ReportType1   0 days 22:41:45 2 days 10:09:09 0 days 04:14:25\n",
       "ReportType10  0 days 06:34:52 0 days 22:06:01 0 days 02:02:57\n",
       "ReportType11  0 days 04:50:27 1 days 03:10:47 0 days 02:17:45\n",
       "ReportType12  0 days 11:20:12 1 days 15:56:04 0 days 02:54:19\n",
       "ReportType13  0 days 04:36:14 0 days 00:43:16 0 days 04:36:14\n",
       "ReportType14  0 days 09:19:15 0 days 15:40:45 0 days 03:41:52\n",
       "ReportType15  0 days 10:11:35 0 days 10:23:59 0 days 07:11:44\n",
       "ReportType16  0 days 13:24:07 2 days 05:47:52 0 days 02:31:17\n",
       "ReportType17  0 days 05:17:38 0 days 02:21:58 0 days 04:06:40\n",
       "ReportType18  0 days 04:08:28 0 days 08:06:52 0 days 02:47:18\n",
       "ReportType19  0 days 15:11:58 1 days 14:24:06 0 days 02:18:44\n",
       "ReportType2   0 days 05:08:34 0 days 16:13:50 0 days 01:40:21\n",
       "ReportType20  0 days 03:40:43 0 days 05:11:23 0 days 03:40:43\n",
       "ReportType21  2 days 00:28:40 0 days 00:00:00 2 days 00:28:40\n",
       "ReportType22  0 days 01:04:38 0 days 00:24:54 0 days 01:04:38\n",
       "ReportType23  0 days 10:30:51 0 days 00:03:45 0 days 10:30:51\n",
       "ReportType24  0 days 00:59:20 0 days 00:00:00 0 days 00:59:20\n",
       "ReportType3   0 days 04:46:40 0 days 10:44:48 0 days 02:21:46\n",
       "ReportType4   0 days 04:05:24 0 days 11:29:54 0 days 01:48:57\n",
       "ReportType5   0 days 06:22:16 1 days 05:08:30 0 days 02:26:03\n",
       "ReportType6   0 days 04:03:14 0 days 13:41:48 0 days 02:02:02\n",
       "ReportType7   0 days 15:15:15 1 days 12:57:06 0 days 03:50:15\n",
       "ReportType8   0 days 05:05:49 1 days 01:34:16 0 days 02:17:19\n",
       "ReportType9   0 days 05:48:52 0 days 13:26:17 0 days 03:17:49"
      ]
     },
     "execution_count": 19,
     "metadata": {},
     "output_type": "execute_result"
    }
   ],
   "source": [
    "report_type_data"
   ]
  },
  {
   "cell_type": "markdown",
   "id": "c6b87c88",
   "metadata": {},
   "source": [
    "#### Podpunkt (3)\n",
    "W treści zadania nie sprecyzowano czy chodzi o rekordy skończone, czy rozpoczęte w Listopadzie. W takim wypadku postanowiłem wybrać tylko te zgłoszenia, które odbyły się ściśle w listopadzie, tzn zaczęły się i skończyły w listopadzie."
   ]
  },
  {
   "cell_type": "code",
   "execution_count": 20,
   "id": "5c25abde",
   "metadata": {},
   "outputs": [
    {
     "name": "stdout",
     "output_type": "stream",
     "text": [
      "Mean for November = 0 days 07:55:51\n",
      "Standard Deviation for November = 0 days 23:20:55\n",
      "Median for November = 0 days 02:26:08\n"
     ]
    }
   ],
   "source": [
    "# Select the data with records made exactly during November.\n",
    "november_data = valid_data[(valid_data[\"date_coord_received\"] > \"2017-11-01 00:00:00\") \n",
    "                               & (valid_data[\"date_coord_received\"] < \"2017-12-01 00:00:00\")\n",
    "                                & (valid_data[\"date_coord_completed\"] > \"2017-11-01 00:00:00\") \n",
    "                                & (valid_data[\"date_coord_completed\"] < \"2017-12-01 00:00:00\")]\n",
    "\n",
    "# Print the Mean, Std and Median. Round the values.\n",
    "print(\"Mean for November =\", november_data[\"coord_realisation_time\"].mean().round(\"1s\"))\n",
    "print(\"Standard Deviation for November =\", november_data[\"coord_realisation_time\"].std().round(\"1s\"))\n",
    "print(\"Median for November =\", november_data[\"coord_realisation_time\"].median().round(\"1s\"))"
   ]
  },
  {
   "cell_type": "markdown",
   "id": "f008839c",
   "metadata": {},
   "source": [
    "### Zadanie 4\n",
    "W tym zadaniu użyłem biblioteki Fitter. Wywołanie funkcji z tej biblioteki trwa na moim komputerze około 5 minut. Tak więc odradzam aktywacji tych funkcji. Ich wyniki są zapisane w późniejszych częściach notatnika.\n",
    "Fitter pozwala na porównanie danych ze wszystkimi rozkładami dostępnymi w scipy.stats, liczy średni błąd kwadratowy i na jego podstawie wybiera rozkład najbardziej zbliżony do naszych danych.\n",
    "\n",
    "Od samego początku funkcja przypominała mi rozkład logarytmicznie normalny, jednakże żadne testy statystycznie nie potrafiły tego potwierdzić na poziomie istotnym statystycznie. Wraz z większą próbą, testy stają się bardziej dokładne i ciężej jest znaleźć rozkład, który idealnie oddaje kształt naszych danych. W związku z tym udało mi się wyznaczyć dwa takie rozkłady, które  są najbardziej zbliżone do rozkładu naszych danych (nawet na poziomie istotnym statystycznie, przy korzystnej próbce).\n",
    "\n",
    "Pierwszy z nich: rozkład logarytmicznie normalny dopasowałem samodzielnie do danych.\n",
    "Drugi z nich: rozkład Gilbrata czyli przypadek szczególny rozkładu logarytmicznie normalnego, został zaproponowany przez funkcję Fitter()\n",
    "\n",
    "Aby móc wykonywać bardziej złożone obliczenia na zmiennej \"coord_realisation_time\", wyraziłem tę zmienną w sekundach (float)."
   ]
  },
  {
   "cell_type": "code",
   "execution_count": 21,
   "id": "bf991169",
   "metadata": {},
   "outputs": [
    {
     "data": {
      "text/plain": [
       "27648.0     530\n",
       "28800.0     324\n",
       "17280.0     237\n",
       "19008.0     155\n",
       "20.0         73\n",
       "           ... \n",
       "14517.0       1\n",
       "91605.0       1\n",
       "78784.0       1\n",
       "455009.0      1\n",
       "21705.0       1\n",
       "Name: coord_realisation_time, Length: 40852, dtype: int64"
      ]
     },
     "execution_count": 21,
     "metadata": {},
     "output_type": "execute_result"
    }
   ],
   "source": [
    "# Transform the Timedelta object to float values by describing it in seconds.\n",
    "distributed_values = valid_data[\"coord_realisation_time\"].dt.total_seconds()\n",
    "distributed_values.value_counts()"
   ]
  },
  {
   "cell_type": "markdown",
   "id": "9d17738d",
   "metadata": {},
   "source": [
    "### Uwaga!\n",
    "#### Uruchomienie następnych 4 linijek kodu, jest silnie obciążające dla komputera, trwa kilka minut i mocno spowalnia działania Jupytera"
   ]
  },
  {
   "cell_type": "code",
   "execution_count": 22,
   "id": "6f762cb7",
   "metadata": {},
   "outputs": [],
   "source": [
    "# Prepare the fitter object, timeout=60 allows more detailed calculations.\n",
    "# I've used 1% random sample of whole data for calculations,\n",
    "# bigger values result in timeouts of a function.\n",
    "f = Fitter(distributed_values.sample(1600), timeout=60)\n"
   ]
  },
  {
   "cell_type": "code",
   "execution_count": 21,
   "id": "2479e292",
   "metadata": {},
   "outputs": [
    {
     "name": "stderr",
     "output_type": "stream",
     "text": [
      "WARNING:root:SKIPPED kstwo distribution (taking more than 60 seconds)\n",
      "WARNING:root:SKIPPED burr distribution (taking more than 60 seconds)\n",
      "WARNING:root:SKIPPED rv_continuous distribution (taking more than 60 seconds)\n",
      "WARNING:root:SKIPPED rv_histogram distribution (taking more than 60 seconds)\n",
      "WARNING:root:SKIPPED kappa4 distribution (taking more than 60 seconds)\n",
      "WARNING:root:SKIPPED ksone distribution (taking more than 60 seconds)\n",
      "WARNING:root:SKIPPED levy_stable distribution (taking more than 60 seconds)\n",
      "C:\\Users\\User\\AppData\\Local\\Packages\\PythonSoftwareFoundation.Python.3.9_qbz5n2kfra8p0\\LocalCache\\local-packages\\Python39\\site-packages\\scipy\\integrate\\_quadpack_py.py:879: IntegrationWarning: The maximum number of subdivisions (50) has been achieved.\n",
      "  If increasing the limit yields no improvement it is advised to analyze \n",
      "  the integrand in order to determine the difficulties.  If the position of a \n",
      "  local difficulty can be determined (singularity, discontinuity) one will \n",
      "  probably gain from splitting up the interval and calling the integrator \n",
      "  on the subranges.  Perhaps a special-purpose integrator should be used.\n",
      "  quad_r = quad(f, low, high, args=args, full_output=self.full_output,\n",
      "C:\\Users\\User\\AppData\\Local\\Packages\\PythonSoftwareFoundation.Python.3.9_qbz5n2kfra8p0\\LocalCache\\local-packages\\Python39\\site-packages\\scipy\\integrate\\_quadpack_py.py:879: IntegrationWarning: The integral is probably divergent, or slowly convergent.\n",
      "  quad_r = quad(f, low, high, args=args, full_output=self.full_output,\n",
      "WARNING:root:SKIPPED ncf distribution (taking more than 60 seconds)\n",
      "WARNING:root:SKIPPED nct distribution (taking more than 60 seconds)\n",
      "WARNING:root:SKIPPED ncx2 distribution (taking more than 60 seconds)\n",
      "WARNING:root:SKIPPED pearson3 distribution (taking more than 60 seconds)\n",
      "WARNING:root:SKIPPED powerlognorm distribution (taking more than 60 seconds)\n",
      "WARNING:root:SKIPPED recipinvgauss distribution (taking more than 60 seconds)\n",
      "WARNING:root:SKIPPED skewnorm distribution (taking more than 60 seconds)\n",
      "WARNING:root:SKIPPED studentized_range distribution (taking more than 60 seconds)\n",
      "WARNING:root:SKIPPED triang distribution (taking more than 60 seconds)\n",
      "WARNING:root:SKIPPED tukeylambda distribution (taking more than 60 seconds)\n",
      "WARNING:root:SKIPPED vonmises_line distribution (taking more than 60 seconds)\n",
      "WARNING:root:SKIPPED weibull_max distribution (taking more than 60 seconds)\n",
      "WARNING:root:SKIPPED weibull_min distribution (taking more than 60 seconds)\n"
     ]
    }
   ],
   "source": [
    "# Warning! It may take a couple of minutes to finish.\n",
    "# Fits the distributions to the sample data.\n",
    "f.fit()"
   ]
  },
  {
   "cell_type": "code",
   "execution_count": 22,
   "id": "0a6b5410",
   "metadata": {},
   "outputs": [
    {
     "data": {
      "text/html": [
       "<div>\n",
       "<style scoped>\n",
       "    .dataframe tbody tr th:only-of-type {\n",
       "        vertical-align: middle;\n",
       "    }\n",
       "\n",
       "    .dataframe tbody tr th {\n",
       "        vertical-align: top;\n",
       "    }\n",
       "\n",
       "    .dataframe thead th {\n",
       "        text-align: right;\n",
       "    }\n",
       "</style>\n",
       "<table border=\"1\" class=\"dataframe\">\n",
       "  <thead>\n",
       "    <tr style=\"text-align: right;\">\n",
       "      <th></th>\n",
       "      <th>sumsquare_error</th>\n",
       "      <th>aic</th>\n",
       "      <th>bic</th>\n",
       "      <th>kl_div</th>\n",
       "    </tr>\n",
       "  </thead>\n",
       "  <tbody>\n",
       "    <tr>\n",
       "      <th>gilbrat</th>\n",
       "      <td>5.169345e-12</td>\n",
       "      <td>4634.847932</td>\n",
       "      <td>-53370.898951</td>\n",
       "      <td>inf</td>\n",
       "    </tr>\n",
       "    <tr>\n",
       "      <th>mielke</th>\n",
       "      <td>1.157110e-11</td>\n",
       "      <td>3734.608963</td>\n",
       "      <td>-52066.919815</td>\n",
       "      <td>inf</td>\n",
       "    </tr>\n",
       "    <tr>\n",
       "      <th>f</th>\n",
       "      <td>1.450571e-11</td>\n",
       "      <td>3746.628065</td>\n",
       "      <td>-51705.269103</td>\n",
       "      <td>inf</td>\n",
       "    </tr>\n",
       "    <tr>\n",
       "      <th>geninvgauss</th>\n",
       "      <td>1.510729e-11</td>\n",
       "      <td>3750.444123</td>\n",
       "      <td>-51640.252944</td>\n",
       "      <td>inf</td>\n",
       "    </tr>\n",
       "    <tr>\n",
       "      <th>skewcauchy</th>\n",
       "      <td>1.969201e-11</td>\n",
       "      <td>3639.531665</td>\n",
       "      <td>-51223.574273</td>\n",
       "      <td>inf</td>\n",
       "    </tr>\n",
       "  </tbody>\n",
       "</table>\n",
       "</div>"
      ],
      "text/plain": [
       "             sumsquare_error          aic           bic  kl_div\n",
       "gilbrat         5.169345e-12  4634.847932 -53370.898951     inf\n",
       "mielke          1.157110e-11  3734.608963 -52066.919815     inf\n",
       "f               1.450571e-11  3746.628065 -51705.269103     inf\n",
       "geninvgauss     1.510729e-11  3750.444123 -51640.252944     inf\n",
       "skewcauchy      1.969201e-11  3639.531665 -51223.574273     inf"
      ]
     },
     "execution_count": 22,
     "metadata": {},
     "output_type": "execute_result"
    },
    {
     "data": {
      "image/png": "[encoded data removed]",
      "text/plain": [
       "<Figure size 432x288 with 1 Axes>"
      ]
     },
     "metadata": {
      "needs_background": "light"
     },
     "output_type": "display_data"
    }
   ],
   "source": [
    "# Warning! It may take a couple of minutes to finish.\n",
    "# Show the closest distribution to the given sample.\n",
    "f.summary()"
   ]
  },
  {
   "cell_type": "code",
   "execution_count": 23,
   "id": "f6f1d4ac",
   "metadata": {},
   "outputs": [
    {
     "data": {
      "text/plain": [
       "{'gilbrat': {'loc': -828.761306204953, 'scale': 10043.420665672524}}"
      ]
     },
     "execution_count": 23,
     "metadata": {},
     "output_type": "execute_result"
    }
   ],
   "source": [
    "# Get the best fitting distribution.\n",
    "f.get_best()"
   ]
  },
  {
   "cell_type": "code",
   "execution_count": 23,
   "id": "54dd7857",
   "metadata": {},
   "outputs": [
    {
     "data": {
      "image/png": "[encoded data removed]",
      "text/plain": [
       "<Figure size 2250x900 with 4 Axes>"
      ]
     },
     "metadata": {},
     "output_type": "display_data"
    }
   ],
   "source": [
    "# Set the visual theme for a figures.\n",
    "sns.set(rc={'figure.figsize':(4,2.5), \"figure.dpi\":150})\n",
    "sns.set_theme(style=\"darkgrid\", font_scale=1, context=\"paper\")\n",
    "\n",
    "# Prepare the figure for 4 plots.\n",
    "fig, ax =plt.subplots(1,4)\n",
    "\n",
    "# Create the first plot with \"coord_realisation_time\" data.\n",
    "histplot = sns.histplot(distributed_values,\n",
    "                        stat=\"density\", bins=40, binrange=(0, 80000), ax=ax[0])\n",
    "histplot.set(xlim=(0, 80000))\n",
    "ax[0].set_title(\"Coord Realisation Time Distribution \\n\")\n",
    "\n",
    "# Create the second plot with lognorm distribution prepared and fitted by myself.\n",
    "lognorm = stats.lognorm.rvs(1, size=160000, scale=8200)\n",
    "lognorm_plot = sns.histplot(lognorm, color=\"limegreen\",\n",
    "                        stat=\"density\", bins=40, binrange=(0, 80000), ax=ax[1])\n",
    "lognorm_plot.set(xlim=(0, 80000))\n",
    "ax[1].set_title(\"Lognorm Distribution \\n\")\n",
    "\n",
    "# Create the third plot with beta distribution, \n",
    "# selected by fitter when using sample of 16000 records.\n",
    "# It's performance is much worse than other disibutions. \n",
    "# But I've decided to leave it as an alternative.\n",
    "beta = stats.beta.rvs(a=1.1525721377351514, b= 668394499142.8708, size=160000, \n",
    "                      scale= 8003914867729306.0, loc=-11.472221341286883)\n",
    "beta_plot = sns.histplot(beta,\n",
    "                        stat=\"density\", bins=40, binrange=(0, 80000), ax=ax[2])\n",
    "beta_plot.set(xlim=(0, 80000))\n",
    "ax[2].set_title(\"Beta Distribution (selected by Finder) \\n\")\n",
    "\n",
    "# Create the fourth plot with gilbrat distribution, the values were fitted by Fitter() functions.\n",
    "gilbrat = stats.gilbrat.rvs(size=160000, scale= 10043.420665672524, loc=-828.761306204953)\n",
    "gilbrat_plot = sns.histplot(gilbrat, color= \"gold\",\n",
    "                        stat=\"density\", bins=40, binrange=(0, 80000), ax=ax[3])\n",
    "gilbrat_plot.set(xlim=(0, 80000))\n",
    "ax[3].set_title(\"Gilbrat Distribution (selected by Finder) \\n\")\n",
    "\n",
    "# Properly space the plots.\n",
    "fig.set_size_inches(15, 6)\n",
    "plt.subplots_adjust(wspace=0.3)\n"
   ]
  },
  {
   "cell_type": "code",
   "execution_count": 24,
   "id": "a1b4aa62",
   "metadata": {},
   "outputs": [
    {
     "name": "stdout",
     "output_type": "stream",
     "text": [
      "For 1600 Sample Size\n",
      "KstestResult(statistic=0.058812500000000045, pvalue=3.327091709916122e-05)\n",
      "KstestResult(statistic=0.07420624999999992, pvalue=4.955574245758014e-08)\n",
      "KstestResult(statistic=0.05750624999999998, pvalue=5.392344732631316e-05)\n",
      "\n",
      " For 16000 Sample Size\n",
      "KstestResult(statistic=0.05951249999999997, pvalue=3.192941293059768e-45)\n",
      "KstestResult(statistic=0.08019375000000001, pvalue=8.225674884948671e-82)\n",
      "KstestResult(statistic=0.05336249999999998, pvalue=1.9424650968701612e-36)\n"
     ]
    }
   ],
   "source": [
    "# Calculate the Kolmogorov-Smirnov test for each distribution against our data. \n",
    "# Smaller sample helps to distnguish the best results.\n",
    "print(\"For 1600 Sample Size\")\n",
    "print(stats.ks_2samp(distributed_values.sample(1600), lognorm))\n",
    "print(stats.ks_2samp(distributed_values.sample(1600), beta))\n",
    "print(stats.ks_2samp(distributed_values.sample(1600), gilbrat))\n",
    "print(\"\\n For 16000 Sample Size\")\n",
    "print(stats.ks_2samp(distributed_values.sample(16000), lognorm))\n",
    "print(stats.ks_2samp(distributed_values.sample(16000), beta))\n",
    "print(stats.ks_2samp(distributed_values.sample(16000), gilbrat))\n",
    "# None of the distributions have a statistically significant results, \n",
    "# however gilbrat distribution performance is the best."
   ]
  },
  {
   "cell_type": "markdown",
   "id": "af6d57ee",
   "metadata": {},
   "source": [
    "Rozkład Gilbrata, czyli szczególny przypadek rozkładu logarytmicznie normalnego, najlepiej oddaje rozkład zmiennej \"czas pracy nad raportem\" (coord_realisation_time)."
   ]
  },
  {
   "cell_type": "markdown",
   "id": "516cc9dd",
   "metadata": {},
   "source": [
    "### Zadanie 5"
   ]
  },
  {
   "cell_type": "code",
   "execution_count": 25,
   "id": "760c1865",
   "metadata": {},
   "outputs": [],
   "source": [
    "# Create new variable with month number of coord completion.\n",
    "valid_data[\"coord_completion_month\"] = valid_data[\"date_coord_completed\"].dt.month"
   ]
  },
  {
   "cell_type": "code",
   "execution_count": 26,
   "id": "bd154473",
   "metadata": {},
   "outputs": [],
   "source": [
    "# Create and prepare the DataFrame for plotting.\n",
    "plt_df = pd.DataFrame(\n",
    "    valid_data.groupby([\"coord_completion_month\", \"txtdmc\"])[\"idcase\"].count()\n",
    "                    ).unstack(-1, fill_value=0).droplevel(0, axis=1)"
   ]
  },
  {
   "cell_type": "code",
   "execution_count": 27,
   "id": "a76ddbf9",
   "metadata": {
    "scrolled": true
   },
   "outputs": [
    {
     "data": {
      "text/html": [
       "<div>\n",
       "<style scoped>\n",
       "    .dataframe tbody tr th:only-of-type {\n",
       "        vertical-align: middle;\n",
       "    }\n",
       "\n",
       "    .dataframe tbody tr th {\n",
       "        vertical-align: top;\n",
       "    }\n",
       "\n",
       "    .dataframe thead th {\n",
       "        text-align: right;\n",
       "    }\n",
       "</style>\n",
       "<table border=\"1\" class=\"dataframe\">\n",
       "  <thead>\n",
       "    <tr style=\"text-align: right;\">\n",
       "      <th>txtdmc</th>\n",
       "      <th>DMC1</th>\n",
       "      <th>DMC2</th>\n",
       "      <th>DMC3</th>\n",
       "      <th>DMC4</th>\n",
       "      <th>DMC5</th>\n",
       "      <th>DMC6</th>\n",
       "    </tr>\n",
       "    <tr>\n",
       "      <th>coord_completion_month</th>\n",
       "      <th></th>\n",
       "      <th></th>\n",
       "      <th></th>\n",
       "      <th></th>\n",
       "      <th></th>\n",
       "      <th></th>\n",
       "    </tr>\n",
       "  </thead>\n",
       "  <tbody>\n",
       "    <tr>\n",
       "      <th>7</th>\n",
       "      <td>7795</td>\n",
       "      <td>7264</td>\n",
       "      <td>8513</td>\n",
       "      <td>5447</td>\n",
       "      <td>848</td>\n",
       "      <td>9</td>\n",
       "    </tr>\n",
       "    <tr>\n",
       "      <th>8</th>\n",
       "      <td>8067</td>\n",
       "      <td>7435</td>\n",
       "      <td>9440</td>\n",
       "      <td>7652</td>\n",
       "      <td>782</td>\n",
       "      <td>0</td>\n",
       "    </tr>\n",
       "    <tr>\n",
       "      <th>9</th>\n",
       "      <td>7227</td>\n",
       "      <td>5976</td>\n",
       "      <td>8211</td>\n",
       "      <td>6887</td>\n",
       "      <td>736</td>\n",
       "      <td>0</td>\n",
       "    </tr>\n",
       "    <tr>\n",
       "      <th>10</th>\n",
       "      <td>8909</td>\n",
       "      <td>6779</td>\n",
       "      <td>10093</td>\n",
       "      <td>8400</td>\n",
       "      <td>659</td>\n",
       "      <td>0</td>\n",
       "    </tr>\n",
       "    <tr>\n",
       "      <th>11</th>\n",
       "      <td>8165</td>\n",
       "      <td>7175</td>\n",
       "      <td>10141</td>\n",
       "      <td>7941</td>\n",
       "      <td>525</td>\n",
       "      <td>0</td>\n",
       "    </tr>\n",
       "    <tr>\n",
       "      <th>12</th>\n",
       "      <td>872</td>\n",
       "      <td>872</td>\n",
       "      <td>724</td>\n",
       "      <td>913</td>\n",
       "      <td>43</td>\n",
       "      <td>0</td>\n",
       "    </tr>\n",
       "  </tbody>\n",
       "</table>\n",
       "</div>"
      ],
      "text/plain": [
       "txtdmc                  DMC1  DMC2   DMC3  DMC4  DMC5  DMC6\n",
       "coord_completion_month                                     \n",
       "7                       7795  7264   8513  5447   848     9\n",
       "8                       8067  7435   9440  7652   782     0\n",
       "9                       7227  5976   8211  6887   736     0\n",
       "10                      8909  6779  10093  8400   659     0\n",
       "11                      8165  7175  10141  7941   525     0\n",
       "12                       872   872    724   913    43     0"
      ]
     },
     "execution_count": 27,
     "metadata": {},
     "output_type": "execute_result"
    }
   ],
   "source": [
    "plt_df"
   ]
  },
  {
   "cell_type": "code",
   "execution_count": 29,
   "id": "9f855748",
   "metadata": {},
   "outputs": [
    {
     "data": {
      "text/plain": [
       "Text(0, 0.5, 'Number of Coords')"
      ]
     },
     "execution_count": 29,
     "metadata": {},
     "output_type": "execute_result"
    },
    {
     "data": {
      "image/png": "[encoded data removed]",
      "text/plain": [
       "<Figure size 600x375 with 1 Axes>"
      ]
     },
     "metadata": {},
     "output_type": "display_data"
    }
   ],
   "source": [
    "# Make the font smaller.\n",
    "sns.set_theme(font_scale=0.7)\n",
    "\n",
    "# Create the lineplot base on our data.\n",
    "sns.lineplot(data=plt_df)\n",
    "\n",
    "# Fix the Visuals\n",
    "plt.legend(bbox_to_anchor=(1.05, 1), loc=2, borderaxespad=0.)\n",
    "plt.xlabel(\"Coord Realisation Month\")\n",
    "plt.ylabel(\"Number of Coords\")"
   ]
  },
  {
   "cell_type": "markdown",
   "id": "56bc92d1",
   "metadata": {},
   "source": [
    "### Zadanie 6"
   ]
  },
  {
   "cell_type": "code",
   "execution_count": 30,
   "id": "46778361",
   "metadata": {},
   "outputs": [],
   "source": [
    "# Create new variable with hour number of coord completion.\n",
    "valid_data[\"coord_completion_hour\"] = valid_data[\"date_coord_completed\"].dt.hour"
   ]
  },
  {
   "cell_type": "code",
   "execution_count": 31,
   "id": "3588f643",
   "metadata": {},
   "outputs": [
    {
     "data": {
      "text/html": [
       "<div>\n",
       "<style scoped>\n",
       "    .dataframe tbody tr th:only-of-type {\n",
       "        vertical-align: middle;\n",
       "    }\n",
       "\n",
       "    .dataframe tbody tr th {\n",
       "        vertical-align: top;\n",
       "    }\n",
       "\n",
       "    .dataframe thead th {\n",
       "        text-align: right;\n",
       "    }\n",
       "</style>\n",
       "<table border=\"1\" class=\"dataframe\">\n",
       "  <thead>\n",
       "    <tr style=\"text-align: right;\">\n",
       "      <th></th>\n",
       "      <th>coord_completion_hour</th>\n",
       "      <th>date_coord_completed</th>\n",
       "    </tr>\n",
       "  </thead>\n",
       "  <tbody>\n",
       "    <tr>\n",
       "      <th>0</th>\n",
       "      <td>12</td>\n",
       "      <td>2017-07-07 12:48:00</td>\n",
       "    </tr>\n",
       "    <tr>\n",
       "      <th>1</th>\n",
       "      <td>12</td>\n",
       "      <td>2017-07-07 12:48:00</td>\n",
       "    </tr>\n",
       "    <tr>\n",
       "      <th>2</th>\n",
       "      <td>15</td>\n",
       "      <td>2017-07-07 15:40:48</td>\n",
       "    </tr>\n",
       "    <tr>\n",
       "      <th>3</th>\n",
       "      <td>15</td>\n",
       "      <td>2017-07-07 15:40:48</td>\n",
       "    </tr>\n",
       "    <tr>\n",
       "      <th>4</th>\n",
       "      <td>15</td>\n",
       "      <td>2017-07-07 15:40:48</td>\n",
       "    </tr>\n",
       "    <tr>\n",
       "      <th>...</th>\n",
       "      <td>...</td>\n",
       "      <td>...</td>\n",
       "    </tr>\n",
       "    <tr>\n",
       "      <th>165901</th>\n",
       "      <td>15</td>\n",
       "      <td>2017-07-10 15:40:48</td>\n",
       "    </tr>\n",
       "    <tr>\n",
       "      <th>165902</th>\n",
       "      <td>15</td>\n",
       "      <td>2017-07-11 15:40:48</td>\n",
       "    </tr>\n",
       "    <tr>\n",
       "      <th>165903</th>\n",
       "      <td>15</td>\n",
       "      <td>2017-07-07 15:40:48</td>\n",
       "    </tr>\n",
       "    <tr>\n",
       "      <th>165904</th>\n",
       "      <td>18</td>\n",
       "      <td>2017-07-10 18:00:00</td>\n",
       "    </tr>\n",
       "    <tr>\n",
       "      <th>165905</th>\n",
       "      <td>18</td>\n",
       "      <td>2017-07-10 18:00:00</td>\n",
       "    </tr>\n",
       "  </tbody>\n",
       "</table>\n",
       "<p>164500 rows × 2 columns</p>\n",
       "</div>"
      ],
      "text/plain": [
       "        coord_completion_hour date_coord_completed\n",
       "0                          12  2017-07-07 12:48:00\n",
       "1                          12  2017-07-07 12:48:00\n",
       "2                          15  2017-07-07 15:40:48\n",
       "3                          15  2017-07-07 15:40:48\n",
       "4                          15  2017-07-07 15:40:48\n",
       "...                       ...                  ...\n",
       "165901                     15  2017-07-10 15:40:48\n",
       "165902                     15  2017-07-11 15:40:48\n",
       "165903                     15  2017-07-07 15:40:48\n",
       "165904                     18  2017-07-10 18:00:00\n",
       "165905                     18  2017-07-10 18:00:00\n",
       "\n",
       "[164500 rows x 2 columns]"
      ]
     },
     "execution_count": 31,
     "metadata": {},
     "output_type": "execute_result"
    }
   ],
   "source": [
    "valid_data[[\"coord_completion_hour\", \"date_coord_completed\"]]"
   ]
  },
  {
   "cell_type": "code",
   "execution_count": 32,
   "id": "71d26fed",
   "metadata": {},
   "outputs": [],
   "source": [
    "# Create and prepare the DataFrame for plotting.\n",
    "plt_df2 = pd.DataFrame(\n",
    "    valid_data.groupby([\"coord_completion_hour\", \"txtdmc\"])[\"idcase\"].count()\n",
    "                    ).unstack(-1, fill_value=0).droplevel(0, axis=1)"
   ]
  },
  {
   "cell_type": "code",
   "execution_count": 33,
   "id": "9d764b12",
   "metadata": {},
   "outputs": [
    {
     "data": {
      "text/html": [
       "<div>\n",
       "<style scoped>\n",
       "    .dataframe tbody tr th:only-of-type {\n",
       "        vertical-align: middle;\n",
       "    }\n",
       "\n",
       "    .dataframe tbody tr th {\n",
       "        vertical-align: top;\n",
       "    }\n",
       "\n",
       "    .dataframe thead th {\n",
       "        text-align: right;\n",
       "    }\n",
       "</style>\n",
       "<table border=\"1\" class=\"dataframe\">\n",
       "  <thead>\n",
       "    <tr style=\"text-align: right;\">\n",
       "      <th>txtdmc</th>\n",
       "      <th>DMC1</th>\n",
       "      <th>DMC2</th>\n",
       "      <th>DMC3</th>\n",
       "      <th>DMC4</th>\n",
       "      <th>DMC5</th>\n",
       "      <th>DMC6</th>\n",
       "    </tr>\n",
       "    <tr>\n",
       "      <th>coord_completion_hour</th>\n",
       "      <th></th>\n",
       "      <th></th>\n",
       "      <th></th>\n",
       "      <th></th>\n",
       "      <th></th>\n",
       "      <th></th>\n",
       "    </tr>\n",
       "  </thead>\n",
       "  <tbody>\n",
       "    <tr>\n",
       "      <th>0</th>\n",
       "      <td>1</td>\n",
       "      <td>329</td>\n",
       "      <td>5</td>\n",
       "      <td>59</td>\n",
       "      <td>19</td>\n",
       "      <td>0</td>\n",
       "    </tr>\n",
       "    <tr>\n",
       "      <th>1</th>\n",
       "      <td>2</td>\n",
       "      <td>163</td>\n",
       "      <td>2</td>\n",
       "      <td>24</td>\n",
       "      <td>22</td>\n",
       "      <td>0</td>\n",
       "    </tr>\n",
       "    <tr>\n",
       "      <th>2</th>\n",
       "      <td>0</td>\n",
       "      <td>98</td>\n",
       "      <td>0</td>\n",
       "      <td>4</td>\n",
       "      <td>66</td>\n",
       "      <td>0</td>\n",
       "    </tr>\n",
       "    <tr>\n",
       "      <th>3</th>\n",
       "      <td>0</td>\n",
       "      <td>114</td>\n",
       "      <td>0</td>\n",
       "      <td>1</td>\n",
       "      <td>108</td>\n",
       "      <td>0</td>\n",
       "    </tr>\n",
       "    <tr>\n",
       "      <th>4</th>\n",
       "      <td>0</td>\n",
       "      <td>11</td>\n",
       "      <td>6</td>\n",
       "      <td>1</td>\n",
       "      <td>995</td>\n",
       "      <td>0</td>\n",
       "    </tr>\n",
       "    <tr>\n",
       "      <th>5</th>\n",
       "      <td>1</td>\n",
       "      <td>5</td>\n",
       "      <td>0</td>\n",
       "      <td>6</td>\n",
       "      <td>1227</td>\n",
       "      <td>1</td>\n",
       "    </tr>\n",
       "    <tr>\n",
       "      <th>6</th>\n",
       "      <td>31</td>\n",
       "      <td>6</td>\n",
       "      <td>151</td>\n",
       "      <td>951</td>\n",
       "      <td>425</td>\n",
       "      <td>2</td>\n",
       "    </tr>\n",
       "    <tr>\n",
       "      <th>7</th>\n",
       "      <td>80</td>\n",
       "      <td>9</td>\n",
       "      <td>1914</td>\n",
       "      <td>4124</td>\n",
       "      <td>205</td>\n",
       "      <td>4</td>\n",
       "    </tr>\n",
       "    <tr>\n",
       "      <th>8</th>\n",
       "      <td>1196</td>\n",
       "      <td>356</td>\n",
       "      <td>5589</td>\n",
       "      <td>5545</td>\n",
       "      <td>83</td>\n",
       "      <td>0</td>\n",
       "    </tr>\n",
       "    <tr>\n",
       "      <th>9</th>\n",
       "      <td>7697</td>\n",
       "      <td>1943</td>\n",
       "      <td>6327</td>\n",
       "      <td>3913</td>\n",
       "      <td>60</td>\n",
       "      <td>1</td>\n",
       "    </tr>\n",
       "    <tr>\n",
       "      <th>10</th>\n",
       "      <td>9353</td>\n",
       "      <td>5867</td>\n",
       "      <td>6617</td>\n",
       "      <td>3449</td>\n",
       "      <td>38</td>\n",
       "      <td>0</td>\n",
       "    </tr>\n",
       "    <tr>\n",
       "      <th>11</th>\n",
       "      <td>7313</td>\n",
       "      <td>5815</td>\n",
       "      <td>6900</td>\n",
       "      <td>2471</td>\n",
       "      <td>86</td>\n",
       "      <td>1</td>\n",
       "    </tr>\n",
       "    <tr>\n",
       "      <th>12</th>\n",
       "      <td>5149</td>\n",
       "      <td>3758</td>\n",
       "      <td>4588</td>\n",
       "      <td>1875</td>\n",
       "      <td>20</td>\n",
       "      <td>0</td>\n",
       "    </tr>\n",
       "    <tr>\n",
       "      <th>13</th>\n",
       "      <td>3445</td>\n",
       "      <td>3910</td>\n",
       "      <td>4115</td>\n",
       "      <td>1345</td>\n",
       "      <td>2</td>\n",
       "      <td>0</td>\n",
       "    </tr>\n",
       "    <tr>\n",
       "      <th>14</th>\n",
       "      <td>2870</td>\n",
       "      <td>3127</td>\n",
       "      <td>4338</td>\n",
       "      <td>2315</td>\n",
       "      <td>2</td>\n",
       "      <td>0</td>\n",
       "    </tr>\n",
       "    <tr>\n",
       "      <th>15</th>\n",
       "      <td>1827</td>\n",
       "      <td>2795</td>\n",
       "      <td>3351</td>\n",
       "      <td>3843</td>\n",
       "      <td>0</td>\n",
       "      <td>0</td>\n",
       "    </tr>\n",
       "    <tr>\n",
       "      <th>16</th>\n",
       "      <td>1336</td>\n",
       "      <td>1680</td>\n",
       "      <td>1770</td>\n",
       "      <td>2918</td>\n",
       "      <td>0</td>\n",
       "      <td>0</td>\n",
       "    </tr>\n",
       "    <tr>\n",
       "      <th>17</th>\n",
       "      <td>414</td>\n",
       "      <td>522</td>\n",
       "      <td>789</td>\n",
       "      <td>1320</td>\n",
       "      <td>0</td>\n",
       "      <td>0</td>\n",
       "    </tr>\n",
       "    <tr>\n",
       "      <th>18</th>\n",
       "      <td>169</td>\n",
       "      <td>473</td>\n",
       "      <td>377</td>\n",
       "      <td>775</td>\n",
       "      <td>2</td>\n",
       "      <td>0</td>\n",
       "    </tr>\n",
       "    <tr>\n",
       "      <th>19</th>\n",
       "      <td>52</td>\n",
       "      <td>254</td>\n",
       "      <td>200</td>\n",
       "      <td>559</td>\n",
       "      <td>13</td>\n",
       "      <td>0</td>\n",
       "    </tr>\n",
       "    <tr>\n",
       "      <th>20</th>\n",
       "      <td>34</td>\n",
       "      <td>653</td>\n",
       "      <td>47</td>\n",
       "      <td>475</td>\n",
       "      <td>87</td>\n",
       "      <td>0</td>\n",
       "    </tr>\n",
       "    <tr>\n",
       "      <th>21</th>\n",
       "      <td>34</td>\n",
       "      <td>1487</td>\n",
       "      <td>17</td>\n",
       "      <td>434</td>\n",
       "      <td>61</td>\n",
       "      <td>0</td>\n",
       "    </tr>\n",
       "    <tr>\n",
       "      <th>22</th>\n",
       "      <td>15</td>\n",
       "      <td>1373</td>\n",
       "      <td>15</td>\n",
       "      <td>686</td>\n",
       "      <td>30</td>\n",
       "      <td>0</td>\n",
       "    </tr>\n",
       "    <tr>\n",
       "      <th>23</th>\n",
       "      <td>16</td>\n",
       "      <td>753</td>\n",
       "      <td>4</td>\n",
       "      <td>147</td>\n",
       "      <td>42</td>\n",
       "      <td>0</td>\n",
       "    </tr>\n",
       "  </tbody>\n",
       "</table>\n",
       "</div>"
      ],
      "text/plain": [
       "txtdmc                 DMC1  DMC2  DMC3  DMC4  DMC5  DMC6\n",
       "coord_completion_hour                                    \n",
       "0                         1   329     5    59    19     0\n",
       "1                         2   163     2    24    22     0\n",
       "2                         0    98     0     4    66     0\n",
       "3                         0   114     0     1   108     0\n",
       "4                         0    11     6     1   995     0\n",
       "5                         1     5     0     6  1227     1\n",
       "6                        31     6   151   951   425     2\n",
       "7                        80     9  1914  4124   205     4\n",
       "8                      1196   356  5589  5545    83     0\n",
       "9                      7697  1943  6327  3913    60     1\n",
       "10                     9353  5867  6617  3449    38     0\n",
       "11                     7313  5815  6900  2471    86     1\n",
       "12                     5149  3758  4588  1875    20     0\n",
       "13                     3445  3910  4115  1345     2     0\n",
       "14                     2870  3127  4338  2315     2     0\n",
       "15                     1827  2795  3351  3843     0     0\n",
       "16                     1336  1680  1770  2918     0     0\n",
       "17                      414   522   789  1320     0     0\n",
       "18                      169   473   377   775     2     0\n",
       "19                       52   254   200   559    13     0\n",
       "20                       34   653    47   475    87     0\n",
       "21                       34  1487    17   434    61     0\n",
       "22                       15  1373    15   686    30     0\n",
       "23                       16   753     4   147    42     0"
      ]
     },
     "execution_count": 33,
     "metadata": {},
     "output_type": "execute_result"
    }
   ],
   "source": [
    "plt_df2"
   ]
  },
  {
   "cell_type": "code",
   "execution_count": 34,
   "id": "3a80a282",
   "metadata": {},
   "outputs": [
    {
     "data": {
      "image/png": "[encoded data removed]",
      "text/plain": [
       "<Figure size 600x375 with 1 Axes>"
      ]
     },
     "metadata": {},
     "output_type": "display_data"
    }
   ],
   "source": [
    "# Create the plot base on our data.\n",
    "sns.lineplot(data=plt_df2)\n",
    "\n",
    "# Fix the Visuals.\n",
    "plt.xticks(plt_df2.index)\n",
    "plt.legend(bbox_to_anchor=(1.05, 1), loc=2, borderaxespad=0.)\n",
    "plt.xlabel(\"Coord Realisation Hour\")\n",
    "plt.ylabel(\"Number of Coords\")\n",
    "plt.show()"
   ]
  },
  {
   "cell_type": "markdown",
   "id": "64d247dc",
   "metadata": {},
   "source": [
    "### Zadanie 7"
   ]
  },
  {
   "cell_type": "code",
   "execution_count": 35,
   "id": "1c5e1302",
   "metadata": {},
   "outputs": [
    {
     "data": {
      "text/plain": [
       "Text(0, 0.5, 'Number of Coords')"
      ]
     },
     "execution_count": 35,
     "metadata": {},
     "output_type": "execute_result"
    },
    {
     "data": {
      "image/png": "[encoded data removed]",
      "text/plain": [
       "<Figure size 600x375 with 1 Axes>"
      ]
     },
     "metadata": {},
     "output_type": "display_data"
    }
   ],
   "source": [
    "# Select 5 workers with the biggest number of coords completed.\n",
    "bar_plot_data = valid_data.groupby([\"userid_coord_completed\"])[\"idcase\"].count().sort_values().tail(5)\n",
    "\n",
    "# Create the plot.\n",
    "sns.barplot(x=bar_plot_data.index, y=bar_plot_data.values)\n",
    "\n",
    "# Fix the Visuals.\n",
    "plt.xlabel(\"Top Workers\")\n",
    "plt.ylabel(\"Number of Coords\")"
   ]
  },
  {
   "cell_type": "markdown",
   "id": "94c2682b",
   "metadata": {},
   "source": [
    "### Zadanie 8"
   ]
  },
  {
   "cell_type": "code",
   "execution_count": 36,
   "id": "004db830",
   "metadata": {},
   "outputs": [
    {
     "data": {
      "text/plain": [
       "Text(0, 0.5, '% of Coords')"
      ]
     },
     "execution_count": 36,
     "metadata": {},
     "output_type": "execute_result"
    },
    {
     "data": {
      "image/png": "[encoded data removed]",
      "text/plain": [
       "<Figure size 600x375 with 1 Axes>"
      ]
     },
     "metadata": {},
     "output_type": "display_data"
    }
   ],
   "source": [
    "# Select the count of coords grouped by departments. Calculate the percent value of all.\n",
    "bar_plot_data2 = (valid_data.groupby([\"txtdmc\"])[\"idcase\"].count()/valid_data[\"idcase\"].count()*100)\n",
    "\n",
    "# Create the plot.\n",
    "sns.barplot(x=bar_plot_data2.index, y=bar_plot_data2.values)\n",
    "\n",
    "# Fix the Visuals.\n",
    "plt.xlabel(\"\")\n",
    "plt.ylabel(\"% of Coords\")"
   ]
  }
 ],
 "metadata": {
  "kernelspec": {
   "display_name": "Python 3 (ipykernel)",
   "language": "python",
   "name": "python3"
  },
  "language_info": {
   "codemirror_mode": {
    "name": "ipython",
    "version": 3
   },
   "file_extension": ".py",
   "mimetype": "text/x-python",
   "name": "python",
   "nbconvert_exporter": "python",
   "pygments_lexer": "ipython3",
   "version": "3.9.13"
  }
 },
 "nbformat": 4,
 "nbformat_minor": 5
}
